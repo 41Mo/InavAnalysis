{
 "cells": [
  {
   "cell_type": "code",
   "execution_count": 10,
   "metadata": {},
   "outputs": [],
   "source": [
    "import numpy as np\n",
    "c = np.cos\n",
    "s = np.sin"
   ]
  },
  {
   "cell_type": "code",
   "execution_count": 11,
   "metadata": {},
   "outputs": [],
   "source": [
    "def puasson_equation(euler_angles, angle_speed_body, angle_speed_platform):\n",
    "    pitch = euler_angles[0]\n",
    "    roll = euler_angles[1]\n",
    "    h = euler_angles[2] # yaw or heading\n",
    "\n",
    "    wbx = angle_speed_body[0]\n",
    "    wby = angle_speed_body[1]\n",
    "    wbz = angle_speed_body[2]\n",
    "\n",
    "    wox = angle_speed_platform[0]\n",
    "    woy = angle_speed_platform[1]\n",
    "    woz = angle_speed_platform[2]\n",
    "\n",
    "    c11 = c(roll)*c(h) - s(pitch)*s(roll)*s(h)\n",
    "    c12 = c(roll)*s(h) + s(pitch)*s(roll)*c(h)\n",
    "    c13 = -c(pitch)*s(roll)\n",
    "\n",
    "    c21 = -c(pitch)*s(h)\n",
    "    c22 = c(pitch)*c(h)\n",
    "    c23 = s(pitch)\n",
    "\n",
    "    c31 = s(roll)*c(h) + s(pitch)*c(roll)*s(h)\n",
    "    c32 = -s(roll)*s(h) - s(pitch)*c(roll)*c(h)\n",
    "    c33 = c(pitch)*c(roll)\n",
    "\n",
    "    Cbo= np.array([\n",
    "        [c11, c12, c13],\n",
    "        [c21, c22, c23],\n",
    "        [c31, c32, c33]\n",
    "    ])\n",
    "    wb0 = np.array([\n",
    "        [   0, -wbz,  wby],\n",
    "        [ wbz,    0, -wbx],\n",
    "        [-wby,  wbx,    0]\n",
    "    ])\n",
    "\n",
    "    w0 = np.array([\n",
    "        [   0, -woz,  woy],\n",
    "        [ woz,    0, -wox],\n",
    "        [-woy,  wox,    0]\n",
    "    ])\n",
    "\n",
    "# transform acceleration from body to platform frame\n",
    "def acc_platform(acceleration_body,transform_matrix):\n",
    "    return transform_matrix@acceleration_body\n",
    "def ang_velocity_platform():\n",
    "    return\n",
    "def speed():\n",
    "    return\n",
    "def coordinates():\n",
    "    return"
   ]
  }
 ],
 "metadata": {
  "interpreter": {
   "hash": "414457ae409683c73d9a24fef15bfcd1210d4e9d5e99348cfbfa80b7e5940fd3"
  },
  "kernelspec": {
   "display_name": "Python 3.9.7 64-bit ('venv': venv)",
   "language": "python",
   "name": "python3"
  },
  "language_info": {
   "codemirror_mode": {
    "name": "ipython",
    "version": 3
   },
   "file_extension": ".py",
   "mimetype": "text/x-python",
   "name": "python",
   "nbconvert_exporter": "python",
   "pygments_lexer": "ipython3",
   "version": "3.9.7"
  },
  "orig_nbformat": 4
 },
 "nbformat": 4,
 "nbformat_minor": 2
}
