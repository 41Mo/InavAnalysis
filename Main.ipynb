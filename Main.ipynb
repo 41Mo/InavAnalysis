{
 "cells": [
  {
   "cell_type": "code",
   "execution_count": null,
   "id": "595cca8c-30cf-4e2b-95c0-81362d62ec31",
   "metadata": {},
   "outputs": [],
   "source": [
    "import matplotlib.pyplot as plt\n",
    "import numpy as np\n",
    "import csv\n",
    "import control"
   ]
  },
  {
   "cell_type": "markdown",
   "metadata": {},
   "source": [
    "# Функции"
   ]
  },
  {
   "cell_type": "code",
   "execution_count": null,
   "id": "3a4e743c-5e92-4713-8927-273ca7b6298e",
   "metadata": {},
   "outputs": [],
   "source": [
    "def get_data_from_csv(*col_names, file_name):\n",
    "    return_dict = {}\n",
    "    for data_col_name in col_names:\n",
    "        with open(file_name, 'r') as csv_file:\n",
    "            reader = csv.reader(csv_file,delimiter=';')\n",
    "            header = next(reader)\n",
    "            data = []\n",
    "            time = []\n",
    "            dataIndex = header.index(data_col_name)\n",
    "            t = 0\n",
    "            for row in reader:\n",
    "                data.append(float(row[dataIndex]))\n",
    "                time.append(float(t))\n",
    "                t = t + 1\n",
    "            return_dict.update({data_col_name:data})\n",
    "            return_dict.update({data_col_name + \"_time\":time})\n",
    "    return return_dict"
   ]
  },
  {
   "cell_type": "code",
   "execution_count": null,
   "metadata": {},
   "outputs": [],
   "source": [
    "def print_plot(dict, time_frame, y_label, x_label, *sensors, subplots=\"true\", number_of_subplots=1, title=\"\",first_x_label=\"\"):\n",
    "    plt.figure(figsize=(15,15))\n",
    "    plt.rc('font', size=15) \n",
    "    i = 1\n",
    "    for sensor in sensors:\n",
    "        data = dict[sensor]\n",
    "        \n",
    "        if subplots == \"true\" and i <= number_of_subplots:\n",
    "            plt.subplot(number_of_subplots,1,i)\n",
    "\n",
    "        if title==\"\":\n",
    "            plt.title(sensor)\n",
    "        elif i>number_of_subplots:\n",
    "            plt.title(title)\n",
    "            plt.xlabel(first_x_label)\n",
    "        elif i<number_of_subplots:\n",
    "            plt.title(sensor)\n",
    "            plt.xlabel(x_label)\n",
    "        plt.ylabel(y_label)\n",
    "        plt.plot(time_frame,data, label=sensor)\n",
    "        plt.grid(True)\n",
    "        if i > number_of_subplots:\n",
    "            plt.legend()\n",
    "        i = i + 1\n",
    "\n",
    "    plt.show()"
   ]
  },
  {
   "cell_type": "code",
   "execution_count": null,
   "metadata": {},
   "outputs": [],
   "source": [
    "def cut_data(number_of_points, dict, *fields):\n",
    "    for field in fields:\n",
    "        data = dict[field]\n",
    "        del data[0 : number_of_points]\n",
    "        del data[len(data)-number_of_points : len(data)]\n",
    "        dict.update({field:data})"
   ]
  },
  {
   "cell_type": "markdown",
   "metadata": {},
   "source": [
    "# Данные акселероментра. Время 30 минут."
   ]
  },
  {
   "cell_type": "code",
   "execution_count": null,
   "id": "1e33cd3d-025a-412c-a1a0-785c85817f2a",
   "metadata": {},
   "outputs": [],
   "source": [
    "CSV_DATA_DICT = get_data_from_csv(\"Acc_X\", \"Acc_Y\", \"Acc_Z\", file_name=\"Sensors_and_orientation.csv\")\n",
    "\n",
    "cut_data(1000, CSV_DATA_DICT, \"Acc_X\", \"Acc_Y\", \"Acc_Z\", \"Acc_X_time\", \"Acc_Y_time\", \"Acc_Z_time\")\n",
    "Xdata = np.asarray(CSV_DATA_DICT[\"Acc_X\"])\n",
    "Ydata = np.asarray(CSV_DATA_DICT[\"Acc_Y\"])\n",
    "Zdata = np.asarray(CSV_DATA_DICT[\"Acc_Z\"])\n",
    "TimeData = np.asarray(CSV_DATA_DICT[\"Acc_X_time\"])"
   ]
  },
  {
   "cell_type": "markdown",
   "metadata": {},
   "source": [
    "### среднеквадратичное отклонение"
   ]
  },
  {
   "cell_type": "code",
   "execution_count": null,
   "id": "bd4f3274-98ea-4374-b2ca-d2a9805bb709",
   "metadata": {},
   "outputs": [],
   "source": [
    "print(\"x std: \", np.std(Xdata))\n",
    "print(\"y std: \", np.std(Ydata))\n",
    "print(\"z std: \", np.std(Zdata))"
   ]
  },
  {
   "cell_type": "code",
   "execution_count": null,
   "metadata": {},
   "outputs": [],
   "source": [
    "TimeData = TimeData / 100"
   ]
  },
  {
   "cell_type": "markdown",
   "metadata": {},
   "source": [
    "## Графики"
   ]
  },
  {
   "cell_type": "code",
   "execution_count": null,
   "metadata": {},
   "outputs": [],
   "source": [
    "print_plot(CSV_DATA_DICT, TimeData, \"m/s2\", \"sec\", \"Acc_X\", \"Acc_Y\", \"Acc_Z\", number_of_subplots=3)"
   ]
  },
  {
   "cell_type": "markdown",
   "metadata": {},
   "source": [
    "### пропускаем через апериодический фильтр"
   ]
  },
  {
   "cell_type": "code",
   "execution_count": null,
   "metadata": {},
   "outputs": [],
   "source": [
    "def filter(input, output_array, k, T, tau):\n",
    "    k=1\n",
    "    T=60\n",
    "    tau = 0.01\n",
    "    if len(output_array) == 0:\n",
    "        output_array.append(k*tau/(T+tau)*input)\n",
    "    else:\n",
    "        output_array.append(k*tau/(T+tau)*input + \n",
    "                               T/(T+tau)*output_array[len(output_array)-1])\n",
    "\n",
    "RESULT = []                           \n",
    "for value in Ydata:\n",
    "    filter(value, RESULT)\n",
    "\n",
    "plt.plot(TimeData,Ydata)\n",
    "plt.plot(TimeData, RESULT)\n"
   ]
  },
  {
   "cell_type": "markdown",
   "metadata": {},
   "source": [
    "# Данные гироскопа. Время 30 минут."
   ]
  },
  {
   "cell_type": "code",
   "execution_count": null,
   "id": "1e33cd3d-025a-412c-a1a0-785c85817f2a",
   "metadata": {},
   "outputs": [],
   "source": [
    "CSV_DATA_DICT = get_data_from_csv(\"Gyr_X\", \"Gyr_Y\", \"Gyr_Z\", file_name=\"Sensors_and_orientation.csv\")\n",
    "\n",
    "cut_data(1000, CSV_DATA_DICT, \"Gyr_X\", \"Gyr_Y\", \"Gyr_Z\", \"Gyr_X_time\")\n",
    "\n",
    "Xdata = np.asarray(CSV_DATA_DICT[\"Gyr_X\"])\n",
    "Ydata = np.asarray(CSV_DATA_DICT[\"Gyr_Y\"])\n",
    "Zdata = np.asarray(CSV_DATA_DICT[\"Gyr_Z\"])\n",
    "TimeData = np.asarray(CSV_DATA_DICT[\"Gyr_X_time\"])"
   ]
  },
  {
   "cell_type": "markdown",
   "metadata": {},
   "source": [
    "### среднеквадратичное отклонение"
   ]
  },
  {
   "cell_type": "code",
   "execution_count": null,
   "id": "bd4f3274-98ea-4374-b2ca-d2a9805bb709",
   "metadata": {},
   "outputs": [],
   "source": [
    "print(\"x std: \", np.std(Xdata))\n",
    "print(\"y std: \", np.std(Ydata))\n",
    "print(\"z std: \", np.std(Zdata))"
   ]
  },
  {
   "cell_type": "code",
   "execution_count": null,
   "metadata": {},
   "outputs": [],
   "source": [
    "TimeData = TimeData / 100"
   ]
  },
  {
   "cell_type": "markdown",
   "metadata": {},
   "source": [
    "## Графики"
   ]
  },
  {
   "cell_type": "code",
   "execution_count": null,
   "metadata": {},
   "outputs": [],
   "source": [
    "print_plot(CSV_DATA_DICT, TimeData, \"deg/s\", \"sec\", \"Gyr_X\", \"Gyr_Y\", \"Gyr_Z\", number_of_subplots=3)"
   ]
  },
  {
   "cell_type": "markdown",
   "metadata": {},
   "source": [
    "# Данные Магнетометра. Поворот на $360^\\circ$"
   ]
  },
  {
   "cell_type": "code",
   "execution_count": null,
   "metadata": {},
   "outputs": [],
   "source": [
    "CSV_DATA_DICT = get_data_from_csv(\"Mag_X\", \"Mag_Y\", \"Yaw\", file_name=\"MAGFIELD.csv\")\n",
    "TimeData = np.asarray(CSV_DATA_DICT[\"Mag_X_time\"])\n",
    "TimeData = TimeData / 100"
   ]
  },
  {
   "cell_type": "code",
   "execution_count": null,
   "metadata": {},
   "outputs": [],
   "source": [
    "print_plot(CSV_DATA_DICT, TimeData, \"AU\", \"sec\", \"Yaw\", \"Mag_X\", \"Mag_Y\", number_of_subplots=2, title=\"Magnetometer\", first_x_label=\"deg\")"
   ]
  },
  {
   "cell_type": "code",
   "execution_count": null,
   "id": "c51b4768",
   "metadata": {},
   "outputs": [],
   "source": [
    "magE = np.asarray(CSV_DATA_DICT[\"Mag_X\"])\n",
    "magN = np.asarray(CSV_DATA_DICT[\"Mag_Y\"])\n",
    "res = np.arctan2(magE,magN)*180/np.pi\n",
    "CSV_DATA_DICT.update({\"Magnetic Yaw\":res})\n",
    "#plt.plot(CSV_DATA_DICT[\"Mag_X_time\"], res)\n",
    "print_plot(CSV_DATA_DICT, TimeData, \"AU\", \"sec\", \"Magnetic Yaw\", \"Mag_X\", \"Mag_Y\", number_of_subplots=2, title=\"Magnetometer\", first_x_label=\"deg\")"
   ]
  },
  {
   "cell_type": "code",
   "execution_count": null,
   "id": "82b56bb3",
   "metadata": {},
   "outputs": [],
   "source": [
    "print_plot(CSV_DATA_DICT, TimeData, \"deg\", \"sec\", \"Magnetic Yaw\", \"Yaw\", number_of_subplots=1)"
   ]
  },
  {
   "cell_type": "code",
   "execution_count": null,
   "metadata": {},
   "outputs": [],
   "source": [
    "CSV_DATA_DICT = get_data_from_csv(\"Mag_X\", \"Mag_Y\", \"Yaw\", file_name=\"AntiClockwise.csv\")\n",
    "TimeData = np.asarray(CSV_DATA_DICT[\"Mag_X_time\"])\n",
    "TimeData = TimeData / 100"
   ]
  },
  {
   "cell_type": "code",
   "execution_count": null,
   "metadata": {},
   "outputs": [],
   "source": [
    "#print_plot(CSV_DATA_DICT, TimeData, \"AU\", \"sec\", \"Yaw\", \"Mag_X\", \"Mag_Y\", number_of_subplots=2, title=\"Magnetometer\", first_x_label=\"deg\")"
   ]
  },
  {
   "cell_type": "markdown",
   "metadata": {},
   "source": [
    "# Зависимость от температуры"
   ]
  },
  {
   "cell_type": "markdown",
   "metadata": {},
   "source": [
    "## Гироскопы"
   ]
  },
  {
   "cell_type": "code",
   "execution_count": null,
   "metadata": {},
   "outputs": [],
   "source": [
    "CSV_DATA_DICT = get_data_from_csv(\"Gyr_X\", \"Gyr_Y\", \"Gyr_Z\", \"Temperature\", file_name=\"Temp.csv\")\n",
    "TimeData = np.asarray(CSV_DATA_DICT[\"Gyr_X_time\"])\n",
    "TimeData = TimeData / 100"
   ]
  },
  {
   "cell_type": "code",
   "execution_count": null,
   "metadata": {},
   "outputs": [],
   "source": [
    "print_plot(CSV_DATA_DICT, TimeData, \"deg/sec\", \"sec\", \"Temperature\", \"Gyr_X\", \"Gyr_Y\", \"Gyr_Z\", number_of_subplots=2, title=\"Gyroscope\", first_x_label=\"Degrees celsius\")"
   ]
  },
  {
   "cell_type": "markdown",
   "metadata": {},
   "source": [
    "## Акселерометры"
   ]
  },
  {
   "cell_type": "code",
   "execution_count": null,
   "metadata": {},
   "outputs": [],
   "source": [
    "CSV_DATA_DICT = get_data_from_csv(\"Acc_X\", \"Acc_Y\", \"Acc_Z\", \"Temperature\", file_name=\"Temp.csv\")\n",
    "TimeData = np.asarray(CSV_DATA_DICT[\"Acc_X_time\"])\n",
    "TimeData = TimeData / 100"
   ]
  },
  {
   "cell_type": "code",
   "execution_count": null,
   "metadata": {},
   "outputs": [],
   "source": [
    "print_plot(CSV_DATA_DICT, TimeData, \"m/sec2\", \"sec\", \"Temperature\", \"Acc_X\", \"Acc_Y\", \"Acc_Z\", number_of_subplots=4, title=\"Gyroscope\", first_x_label=\"Degrees celsius\")"
   ]
  }
 ],
 "metadata": {
  "interpreter": {
   "hash": "414457ae409683c73d9a24fef15bfcd1210d4e9d5e99348cfbfa80b7e5940fd3"
  },
  "kernelspec": {
   "display_name": "Python 3.9.7 64-bit ('venv': venv)",
   "name": "python3"
  },
  "language_info": {
   "codemirror_mode": {
    "name": "ipython",
    "version": 3
   },
   "file_extension": ".py",
   "mimetype": "text/x-python",
   "name": "python",
   "nbconvert_exporter": "python",
   "pygments_lexer": "ipython3",
   "version": "3.9.7"
  }
 },
 "nbformat": 4,
 "nbformat_minor": 5
}
